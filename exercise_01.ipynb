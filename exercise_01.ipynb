{
  "nbformat": 4,
  "nbformat_minor": 0,
  "metadata": {
    "colab": {
      "name": "exercise_01.ipynb",
      "provenance": [],
      "collapsed_sections": [],
      "authorship_tag": "ABX9TyPFXJJSo1OuVSDoxsyi5CyU",
      "include_colab_link": true
    },
    "kernelspec": {
      "name": "python3",
      "display_name": "Python 3"
    }
  },
  "cells": [
    {
      "cell_type": "markdown",
      "metadata": {
        "id": "view-in-github",
        "colab_type": "text"
      },
      "source": [
        "<a href=\"https://colab.research.google.com/github/Hautzy/2DMapGenerator/blob/master/exercise_01.ipynb\" target=\"_parent\"><img src=\"https://colab.research.google.com/assets/colab-badge.svg\" alt=\"Open In Colab\"/></a>"
      ]
    },
    {
      "cell_type": "markdown",
      "metadata": {
        "id": "_sNtstfO6c47"
      },
      "source": [
        "# Exercise 01\r\n",
        "\r\n",
        "by Julian Hautzmayer k11904007\r\n",
        "\r\n",
        "$$f(x)=x^4+x^3-7x^2-x+6$$\r\n",
        "\r\n",
        "## Problem 1\r\n"
      ]
    },
    {
      "cell_type": "code",
      "metadata": {
        "colab": {
          "base_uri": "https://localhost:8080/",
          "height": 0
        },
        "id": "euHSA3LD60Ml",
        "outputId": "878bf47d-4fea-4c1e-8bdb-69b82c96321f"
      },
      "source": [
        "import matplotlib.pyplot as plt\r\n",
        "import numpy as np\r\n",
        "\r\n",
        "def f(x):\r\n",
        "  return x**4+x**3-7*x**2-x+6\r\n",
        "\r\n",
        "for i in range(-4, 4):\r\n",
        "  print('f({0})={1}'.format(i, f(i)))"
      ],
      "execution_count": 187,
      "outputs": [
        {
          "output_type": "stream",
          "text": [
            "f(-4)=90\n",
            "f(-3)=0\n",
            "f(-2)=-12\n",
            "f(-1)=0\n",
            "f(0)=6\n",
            "f(1)=0\n",
            "f(2)=0\n",
            "f(3)=48\n"
          ],
          "name": "stdout"
        }
      ]
    },
    {
      "cell_type": "markdown",
      "metadata": {
        "id": "PfjFP8Ut_lpT"
      },
      "source": [
        "(a) So we get that $$f(x)=0$$ at $$x_0=-3, x_1=-1, x_2=1, x_3=2$$\r\n",
        "\r\n",
        "(b) The drawing:\r\n",
        "\r\n",
        "From the drawing I expect three stationary points at approximately -2.2, -0.1 and 1.5."
      ]
    },
    {
      "cell_type": "code",
      "metadata": {
        "colab": {
          "base_uri": "https://localhost:8080/",
          "height": 374
        },
        "id": "5o71kc8O_leO",
        "outputId": "a873dc3c-28a2-4a96-949f-74a995aec3d1"
      },
      "source": [
        "x = np.arange(-4, 3, 0.1)\r\n",
        "y = f(x)\r\n",
        "plt.figure(figsize=(14, 6))\r\n",
        "plt.plot(x, y)\r\n",
        "plt.plot(x, 0*x, 'k--')\r\n",
        "plt.scatter([-3, -1, 1, 2], [0, 0, 0, 0], color='red')\r\n",
        "plt.show()"
      ],
      "execution_count": 188,
      "outputs": [
        {
          "output_type": "display_data",
          "data": {
            "image/png": "[encoded data removed]",
            "text/plain": [
              "<Figure size 1008x432 with 1 Axes>"
            ]
          },
          "metadata": {
            "tags": [],
            "needs_background": "light"
          }
        }
      ]
    },
    {
      "cell_type": "markdown",
      "metadata": {
        "id": "mrd5PGXp_l3V"
      },
      "source": [
        "(c)\r\n",
        "\r\n",
        "$$\r\n",
        "f'(x)=4x^3+3x^2-14x-1 \\\\\r\n",
        "f'(x)=0 \\\\\r\n",
        "x_0=-2.2537, x_1=1.5742, x_2=-0.070465\r\n",
        "$$\r\n",
        "\r\n",
        "These are our thress stationary points:\r\n",
        "\r\n",
        "$$\r\n",
        "S_1=(-2.2537, -12.949), S_2=(1.5742, -2.879), S_3=(-0.070465, 6.035)\r\n",
        "$$\r\n",
        "\r\n",
        "## Problem 2"
      ]
    },
    {
      "cell_type": "code",
      "metadata": {
        "id": "-0JqEbCacBl6"
      },
      "source": [
        "import decimal\r\n",
        "\r\n",
        "def d1f(x):\r\n",
        "  return 4*x**3+3*x**2-14*x-1\r\n",
        "\r\n",
        "def rec_approximation(x0, n=10):\r\n",
        "  x = list ()\r\n",
        "  x0 = decimal.Decimal(x0)\r\n",
        "  print('Starting from x0={0}'.format(x0))\r\n",
        "  for i in range(n):\r\n",
        "    x.append(x0)\r\n",
        "    x0 -= d1f(x0)\r\n",
        "    print('x{0}={1}'.format((i+1), x0))\r\n",
        "  x.append(x0)\r\n",
        "  print('---')\r\n",
        "  return x"
      ],
      "execution_count": 189,
      "outputs": []
    },
    {
      "cell_type": "markdown",
      "metadata": {
        "id": "tBw0U0UvcW6g"
      },
      "source": [
        "(a) It doesn't really makes a difference if you approach the point from the left or the right side. So + und - are both allowed. But different results will be achieved, also when taking different starting points.\r\n",
        "\r\n",
        "(b) In the following I start with $x_0=(-1, 0, 1, 1.5743, -2.2538)$. We instantly see that if our starting point is close to a stationary point we go in its direction for a couple of iterations, but after some time regardless of starting point all go to $\\infty$ or $- \\infty$."
      ]
    },
    {
      "cell_type": "code",
      "metadata": {
        "colab": {
          "base_uri": "https://localhost:8080/",
          "height": 0
        },
        "id": "w0j-NZkedL9Y",
        "outputId": "82d25bd9-82b5-4991-bae2-82509074dd57"
      },
      "source": [
        "rec_approximation(-1)\r\n",
        "rec_approximation(0)\r\n",
        "rec_approximation(1)\r\n",
        "st = 1.5743\r\n",
        "rec_approximation(st)\r\n",
        "st = -2.2538\r\n",
        "app_x = rec_approximation(st)"
      ],
      "execution_count": 190,
      "outputs": [
        {
          "output_type": "stream",
          "text": [
            "Starting from x0=-1\n",
            "x1=-13\n",
            "x2=8087\n",
            "x3=-2115741335413\n",
            "x4=3.788329137114463925999678032E+37\n",
            "x5=-2.174718776527326476848110347E+113\n",
            "x6=4.114047521058738699923035260E+340\n",
            "x7=-2.785273858122345849282325628E+1022\n",
            "x8=8.642983826910428142271075648E+3067\n",
            "x9=-2.582563997016418960723287436E+9204\n",
            "x10=6.889905547784326560308705928E+27613\n",
            "---\n",
            "Starting from x0=0\n",
            "x1=1\n",
            "x2=9\n",
            "x3=-3023\n",
            "x4=110475631737\n",
            "x5=-5.393360776374217315000168250E+33\n",
            "x6=6.275356580362719433670003812E+101\n",
            "x7=-9.884966839702805062500583624E+305\n",
            "x8=3.863542034235464526465059064E+918\n",
            "x9=-2.306837040283125130171664337E+2756\n",
            "x10=4.910330676087324550727878052E+8269\n",
            "---\n",
            "Starting from x0=1\n",
            "x1=9\n",
            "x2=-3023\n",
            "x3=110475631737\n",
            "x4=-5.393360776374217315000168250E+33\n",
            "x5=6.275356580362719433670003812E+101\n",
            "x6=-9.884966839702805062500583624E+305\n",
            "x7=3.863542034235464526465059064E+918\n",
            "x8=-2.306837040283125130171664337E+2756\n",
            "x9=4.910330676087324550727878052E+8269\n",
            "x10=-4.735787541090206563289755692E+24809\n",
            "---\n",
            "Starting from x0=1.57430000000000003268496584496460855007171630859375\n",
            "x1=1.572129020371999209453768515\n",
            "x2=1.624535032521449111727374985\n",
            "x3=0.301350213734270756863251185\n",
            "x4=5.138352548304140256266836077\n",
            "x5=-543.7975557171647667803159702\n",
            "x6=642342773.5847561664575400467\n",
            "x7=-1060133405752056034818729373\n",
            "x8=4.765862962824663218282507165E+81\n",
            "x9=-4.329967562660005428079859560E+245\n",
            "x10=3.247236500813452988334857767E+737\n",
            "---\n",
            "Starting from x0=-2.2538000000000000255795384873636066913604736328125\n",
            "x1=-2.252103220511999170389743527\n",
            "x2=-2.307064936396805502289544187\n",
            "x3=-0.455758727394126472566948707\n",
            "x4=-6.080855412344079735862935641\n",
            "x5=698.2591207453950465651840379\n",
            "x6=-1363241288.940032126446767109\n",
            "x7=1.013393664408701260315666542E+28\n",
            "x8=-4.162886266630958220416196840E+84\n",
            "x9=2.885649828661915524023375782E+254\n",
            "x10=-9.611493516231226809453271504E+763\n",
            "---\n"
          ],
          "name": "stdout"
        }
      ]
    },
    {
      "cell_type": "markdown",
      "metadata": {
        "id": "Y3yXD6q9frrK"
      },
      "source": [
        "(c) Here is the drawing for the starting point $x_0=-2.2538$"
      ]
    },
    {
      "cell_type": "code",
      "metadata": {
        "colab": {
          "base_uri": "https://localhost:8080/",
          "height": 374
        },
        "id": "IHgPJnTuf7Rg",
        "outputId": "84cfa94b-814a-4c1a-d6e5-84953ca1ad5e"
      },
      "source": [
        "def app_f(x):\r\n",
        "  return x - d1f(x)\r\n",
        "\r\n",
        "x = np.arange(-3, 3, 0.1)\r\n",
        "y = f(x)\r\n",
        "\r\n",
        "dy = app_f(x)\r\n",
        "\r\n",
        "plt.figure(figsize=(14, 6))\r\n",
        "plt.plot(x, y, label='f(x)')\r\n",
        "plt.plot(x, dy, label='app_f(x)')\r\n",
        "plt.plot(x, 0*x, 'k--')\r\n",
        "plt.scatter(app_x[:4], [0, 0, 0, 0], color='red', label='x0, ..., x3')\r\n",
        "plt.legend()\r\n",
        "plt.show()"
      ],
      "execution_count": 191,
      "outputs": [
        {
          "output_type": "display_data",
          "data": {
            "image/png": "[encoded data removed]",
            "text/plain": [
              "<Figure size 1008x432 with 1 Axes>"
            ]
          },
          "metadata": {
            "tags": [],
            "needs_background": "light"
          }
        }
      ]
    },
    {
      "cell_type": "markdown",
      "metadata": {
        "id": "ivLX74v2qG1L"
      },
      "source": [
        "(d) Starting near a stationary point helps in the first few iterations to come closer, however after some iterations is explodes and diverges to $\\infty$ or $-\\infty$.\r\n",
        "\r\n",
        "## Problem 3\r\n",
        "\r\n",
        "(a) $$f''(x)=12x^2+6x-14$$\r\n",
        "\r\n",
        "(b) \r\n",
        "$$\r\n",
        "f'''(x)=24x+6 \\\\\r\n",
        "f^{IV}(x)=24\r\n",
        "$$\r\n",
        "We want to find the stationary point of $f''(x)$:\r\n",
        "$$\r\n",
        "f''(x)=0 \\\\\r\n",
        "24x+6=0 \\\\\r\n",
        "24x=-6 \\\\\r\n",
        "x_0=-\\frac{1}{4} \\\\\r\n",
        "\r\n",
        "f^{IV}(-\\frac{1}{4})=24 > 0 \\\\\r\n",
        "$$\r\n",
        "$\\rightarrow MIN=(-\\frac{1}{4}, -\\frac{59}{4})$  is a global minimum ($s=-\\frac{59}{4}=-14.75$)\r\n",
        "\r\n",
        "(c) We can ignore the only stationary point of $f''(x)$ as it is a global minimum. So we have to look at the start and end of our interval -3 and 2. From this we get that $f''(-3)=76$ and $f''(2)=46$. So we can say that the maximum of $f''(x)$ in $[-3, 2]$ is $MAX=(-3, 76)$. ($t=76$)\r\n",
        "\r\n",
        "(d) $\\mu=\\max\\{|s|, |t|\\}=76$"
      ]
    },
    {
      "cell_type": "markdown",
      "metadata": {
        "id": "6w2zQQg1v9Zw"
      },
      "source": [
        "## Problem 4\r\n",
        "\r\n",
        "(a) the reasoning is pretty similar, it doesn't matter if we approach our minimum or maximum from the left or right side. However it matters from which point we start."
      ]
    },
    {
      "cell_type": "code",
      "metadata": {
        "id": "6pseJm87xs9v"
      },
      "source": [
        "mu = 76\r\n",
        "\r\n",
        "def grad_desc(x):\r\n",
        "  return x-(1/mu)*d1f(x)\r\n",
        "\r\n",
        "def iterative_grad_desc(x, n=10):\r\n",
        "  seq = list()\r\n",
        "  print('x0={0}'.format(x))\r\n",
        "  for i in range(n):\r\n",
        "    seq.append(x)\r\n",
        "    x = grad_desc(x)\r\n",
        "    print('x{0}={1}'.format(i+1, x))\r\n",
        "  seq.append(x)\r\n",
        "  print('---')\r\n",
        "  return seq"
      ],
      "execution_count": 192,
      "outputs": []
    },
    {
      "cell_type": "code",
      "metadata": {
        "colab": {
          "base_uri": "https://localhost:8080/",
          "height": 0
        },
        "id": "U5TW3t7jyhjd",
        "outputId": "49f4315e-d8c3-44ed-9d33-b3d20cbbb257"
      },
      "source": [
        "app_x_0 = iterative_grad_desc(-1)\r\n",
        "app_x_2 = iterative_grad_desc(0)\r\n",
        "app_x_1 = iterative_grad_desc(1)\r\n",
        "st = 1.5743\r\n",
        "iterative_grad_desc(st)\r\n",
        "st = -2.2538\r\n",
        "_ = iterative_grad_desc(st)"
      ],
      "execution_count": 193,
      "outputs": [
        {
          "output_type": "stream",
          "text": [
            "x0=-1\n",
            "x1=-1.1578947368421053\n",
            "x2=-1.329250466156644\n",
            "x3=-1.5070870473652336\n",
            "x4=-1.681046218327217\n",
            "x5=-1.8390779550454912\n",
            "x6=-1.9708297955858343\n",
            "x7=-2.0711452543171354\n",
            "x8=-2.1412382722758405\n",
            "x9=-2.186798468908185\n",
            "x10=-2.214845762609327\n",
            "---\n",
            "x0=0\n",
            "x1=0.013157894736842105\n",
            "x2=0.028732658205507935\n",
            "x3=0.04714957445750975\n",
            "x4=0.06889964716460657\n",
            "x5=0.09454497960131672\n",
            "x6=0.1247217295746239\n",
            "x7=0.16013853541935785\n",
            "x8=0.20156721764767388\n",
            "x9=0.24982109715685394\n",
            "x10=0.30571448794078254\n",
            "---\n",
            "x0=1\n",
            "x1=1.1052631578947367\n",
            "x2=1.2027378549888352\n",
            "x3=1.2887796545919648\n",
            "x4=1.361117107819969\n",
            "x5=1.4191576520647222\n",
            "x6=1.4638076499705495\n",
            "x7=1.4969512515741503\n",
            "x8=1.5208575329756409\n",
            "x9=1.5377254567789267\n",
            "x10=1.5494351643314008\n",
            "---\n",
            "x0=1.5743\n",
            "x1=1.5742714344785789\n",
            "x2=1.5742523355035039\n",
            "x3=1.5742395656214514\n",
            "x4=1.5742310273556124\n",
            "x5=1.574225318402904\n",
            "x6=1.5742215011943892\n",
            "x7=1.5742189488627472\n",
            "x8=1.5742172422714882\n",
            "x9=1.5742161011740614\n",
            "x10=1.5742153381882396\n",
            "---\n",
            "x0=-2.2538\n",
            "x1=-2.2537776739541053\n",
            "x2=-2.253765169028999\n",
            "x3=-2.2537581648228215\n",
            "x4=-2.2537542416130165\n",
            "x5=-2.253752044123424\n",
            "x6=-2.2537508132493587\n",
            "x7=-2.2537501238017703\n",
            "x8=-2.2537497376221394\n",
            "x9=-2.2537495213115735\n",
            "x10=-2.2537494001496245\n",
            "---\n"
          ],
          "name": "stdout"
        }
      ]
    },
    {
      "cell_type": "code",
      "metadata": {
        "colab": {
          "base_uri": "https://localhost:8080/",
          "height": 374
        },
        "id": "bag48wS4zohP",
        "outputId": "b6168080-2a5e-4fca-cf0d-f6a137cee1f9"
      },
      "source": [
        "def app_f(x):\r\n",
        "  return x - (1/mu)*d1f(x)\r\n",
        "\r\n",
        "x = np.arange(-3, 3, 0.1)\r\n",
        "y = f(x)\r\n",
        "\r\n",
        "dy = app_f(x)\r\n",
        "\r\n",
        "plt.figure(figsize=(14, 6))\r\n",
        "plt.plot(x, y, label='f(x)')\r\n",
        "plt.plot(x, dy, label='app_f(x)')\r\n",
        "plt.plot(x, 0*x, 'k--')\r\n",
        "plt.scatter(app_x_0, np.zeros(shape=len(app_x_0)), color='red', label='x0, ..., x10')\r\n",
        "plt.scatter(app_x_1, np.zeros(shape=len(app_x_1)), color='green', label='x0, ..., x10')\r\n",
        "plt.scatter(app_x_2, np.zeros(shape=len(app_x_2)), color='purple', label='x0, ..., x10')\r\n",
        "plt.legend()\r\n",
        "plt.show()"
      ],
      "execution_count": 194,
      "outputs": [
        {
          "output_type": "display_data",
          "data": {
            "image/png": "[encoded data removed]",
            "text/plain": [
              "<Figure size 1008x432 with 1 Axes>"
            ]
          },
          "metadata": {
            "tags": [],
            "needs_background": "light"
          }
        }
      ]
    },
    {
      "cell_type": "markdown",
      "metadata": {
        "id": "Ih8XEYQC1rmc"
      },
      "source": [
        "(d) This time there was not really a difference if I started from very close to the stationary point or a bit more away. But what I found is that for the stationary point around ~-0.07 gradient descent seems to step over the stationary point and doesn't really converge like for the other two stationary points. I wasn't able to find a good starting point. I think this is due to the too big learning rate $\\frac{1}{\\mu}$.\r\n",
        "\r\n",
        "From the above method (gradient desent) I get following approximation of my stationary points (note that $S_2$ was very hard to approximate and I wasn't able to find a suitable approximation so I took the calculus result):\r\n",
        "\r\n",
        "$S_1=(-2.25375, -12.949), S_2=(-0.0704, 6.035), S_3=(1.57421, -2.879)$"
      ]
    }
  ]
}